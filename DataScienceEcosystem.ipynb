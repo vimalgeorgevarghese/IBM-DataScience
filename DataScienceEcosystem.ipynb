{
 "cells": [
  {
   "cell_type": "markdown",
   "id": "5fa2bf75",
   "metadata": {},
   "source": [
    "# Data Science Tools and EcoSystem\n"
   ]
  },
  {
   "cell_type": "markdown",
   "id": "ca4b0cae",
   "metadata": {},
   "source": [
    "In this notebook, Data Science Tools and Ecosystem are summarized."
   ]
  },
  {
   "cell_type": "markdown",
   "id": "d0e8acc7",
   "metadata": {},
   "source": [
    "Some Of the popular languages that Data Scientists use are:\n",
    "\n",
    " 1. Python\n",
    " 2. R\n",
    " 3. Scala\n",
    " 4. Julia\n",
    "    "
   ]
  },
  {
   "cell_type": "markdown",
   "id": "fa0ba213",
   "metadata": {},
   "source": [
    "Some of the commonly used libraries used by Data Scientists include:\n",
    "\n",
    " 1. Pandas\n",
    " 2. Numpy\n",
    " 3. Scikit-Learn\n",
    " 4. Tensorflow\n",
    " 5. Matplotlib"
   ]
  },
  {
   "cell_type": "markdown",
   "id": "0f7636b7",
   "metadata": {},
   "source": [
    "|Data Science Tools|\n",
    "-\n",
    "|Jupyter Notebook|\n",
    "|R Studio|\n",
    "|Apache Spark|\n",
    "\n",
    "\n"
   ]
  },
  {
   "cell_type": "markdown",
   "id": "205ee56c",
   "metadata": {},
   "source": [
    "### Below are a few examples of evaluating arithmetic expressions in Python.\n"
   ]
  },
  {
   "cell_type": "code",
   "execution_count": 1,
   "id": "b88405c8",
   "metadata": {},
   "outputs": [
    {
     "data": {
      "text/plain": [
       "17"
      ]
     },
     "execution_count": 1,
     "metadata": {},
     "output_type": "execute_result"
    }
   ],
   "source": [
    "# This a simple arithmetic expression to mutipLy then add integers.\n",
    "(3 * 4) + 5"
   ]
  },
  {
   "cell_type": "code",
   "execution_count": 2,
   "id": "ac85f989",
   "metadata": {},
   "outputs": [
    {
     "data": {
      "text/plain": [
       "3.3333333333333335"
      ]
     },
     "execution_count": 2,
     "metadata": {},
     "output_type": "execute_result"
    }
   ],
   "source": [
    "# This will convert 200 minutes to hours by dividing by 60\n",
    "200 / 60 "
   ]
  },
  {
   "cell_type": "markdown",
   "id": "ea9db865",
   "metadata": {},
   "source": [
    "**Objectives:**\n",
    "* List popular languages for Data Science\n",
    "* Commonly used libraries in Data Science\n",
    "* Development Enviornment opensource tools used in Data Science\n",
    "* Examples evaluating arithhemetic expressions in python\n",
    "\n"
   ]
  },
  {
   "cell_type": "markdown",
   "id": "3e7f9da4",
   "metadata": {},
   "source": [
    "## Author\n",
    "Vimal George Varghese"
   ]
  },
  {
   "cell_type": "code",
   "execution_count": null,
   "id": "0dff5491",
   "metadata": {},
   "outputs": [],
   "source": []
  }
 ],
 "metadata": {
  "kernelspec": {
   "display_name": "Python 3 (ipykernel)",
   "language": "python",
   "name": "python3"
  },
  "language_info": {
   "codemirror_mode": {
    "name": "ipython",
    "version": 3
   },
   "file_extension": ".py",
   "mimetype": "text/x-python",
   "name": "python",
   "nbconvert_exporter": "python",
   "pygments_lexer": "ipython3",
   "version": "3.11.5"
  }
 },
 "nbformat": 4,
 "nbformat_minor": 5
}
